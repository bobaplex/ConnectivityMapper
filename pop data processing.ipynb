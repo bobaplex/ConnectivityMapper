{
 "cells": [
  {
   "cell_type": "code",
   "execution_count": 6,
   "id": "3fe27bff-4489-424e-8f59-89a55cc04675",
   "metadata": {},
   "outputs": [
    {
     "name": "stdout",
     "output_type": "stream",
     "text": [
      "   FID  UniqSysID                     Licensee Callsign  LocNum  LatDeg  \\\n",
      "0   27      11510  AT&T Mobility Spectrum, LLC  KNKA679      12      47   \n",
      "1   28      11510  AT&T Mobility Spectrum, LLC  KNKA679       6      47   \n",
      "2   29      11510  AT&T Mobility Spectrum, LLC  KNKA679       7      47   \n",
      "3   30      11510  AT&T Mobility Spectrum, LLC  KNKA679       8      47   \n",
      "4   31      11510  AT&T Mobility Spectrum, LLC  KNKA679       9      47   \n",
      "\n",
      "   LatMin  LatSec LatDir  LonDeg  ...  AllStruc  StrucType LicStatus  \\\n",
      "0      41     1.6      N     122  ...      12.8          B         A   \n",
      "1      41    28.0      N     122  ...      45.4     MTOWER         A   \n",
      "2      28    49.0      N     122  ...     128.9     GTOWER         A   \n",
      "3      41    31.2      N     122  ...      50.9     MTOWER         A   \n",
      "4      31     1.5      N     122  ...      47.8     MTOWER         A   \n",
      "\n",
      "      latdec      londec                                                url  \\\n",
      "0  47.683778 -122.363583  http://wireless2.fcc.gov/UlsApp/UlsSearch/lice...   \n",
      "1  47.691111 -122.715278  http://wireless2.fcc.gov/UlsApp/UlsSearch/lice...   \n",
      "2  47.480278 -122.533889  http://wireless2.fcc.gov/UlsApp/UlsSearch/lice...   \n",
      "3  47.692000 -122.821667  http://wireless2.fcc.gov/UlsApp/UlsSearch/lice...   \n",
      "4  47.517083 -122.572167  http://wireless2.fcc.gov/UlsApp/UlsSearch/lice...   \n",
      "\n",
      "  elevation      slope                     geometry  raw_population_density  \n",
      "0     349.0  48.189685  POINT (-122.36358 47.68378)                     NaN  \n",
      "1      76.0  85.642828  POINT (-122.71528 47.69111)                     NaN  \n",
      "2      78.0  74.206831  POINT (-122.53389 47.48028)                     NaN  \n",
      "3     155.0  85.568525    POINT (-122.82167 47.692)                     NaN  \n",
      "4      23.0  78.690068  POINT (-122.57217 47.51708)                     NaN  \n",
      "\n",
      "[5 rows x 31 columns]\n"
     ]
    }
   ],
   "source": [
    "# Cell 1: Load and process raw population density from .tif\n",
    "import rasterio\n",
    "import numpy as np\n",
    "import geopandas as gpd\n",
    "import pandas as pd\n",
    "\n",
    "# Load the population density GeoTIFF\n",
    "with rasterio.open(\"usa_pd_2020_1km_UNadj.tif\") as src:\n",
    "    pop_density = src.read(1)  # Read the first band (population density)\n",
    "    pop_transform = src.transform  # Geospatial transform\n",
    "    pop_crs = src.crs  # Coordinate reference system\n",
    "\n",
    "# Load the cellular data with elevation and slope\n",
    "cellular_data = gpd.read_file(\"cellular_data_with_slope.geojson\")\n",
    "\n",
    "# Function to get population density for a given lat/lon\n",
    "def get_population_density(lat, lon, pop_density, transform):\n",
    "    row, col = ~transform * (lon, lat)\n",
    "    row, col = int(row), int(col)\n",
    "    if 0 <= row < pop_density.shape[0] and 0 <= col < pop_density.shape[1]:\n",
    "        return pop_density[row, col]\n",
    "    else:\n",
    "        return np.nan  # Return NaN for out-of-bounds coordinates\n",
    "\n",
    "# Add raw population density to cellular data\n",
    "cellular_data['raw_population_density'] = cellular_data.apply(\n",
    "    lambda row: get_population_density(row.geometry.y, row.geometry.x, pop_density, pop_transform), axis=1\n",
    ")\n",
    "\n",
    "print(cellular_data.head())\n",
    "\n",
    "# Drop rows with missing raw population density values\n",
    "# cellular_data = cellular_data.dropna(subset=['raw_population_density'])"
   ]
  },
  {
   "cell_type": "code",
   "execution_count": 12,
   "id": "4f27500f-475f-4792-aa0d-3ed64d90c2b9",
   "metadata": {},
   "outputs": [
    {
     "name": "stdout",
     "output_type": "stream",
     "text": [
      "Cellular Data CRS: EPSG:4326\n",
      "Raster CRS: EPSG:4326\n",
      "Raster Bounds: BoundingBox(left=-179.15124930330558, bottom=18.90791676654655, right=179.78208259429442, top=71.39124988994655)\n",
      "Cellular Data Bounds: [-124.66358333   28.34525    -100.00744444   49.00222222]\n",
      "   FID  UniqSysID                     Licensee Callsign  LocNum  LatDeg  \\\n",
      "0   27      11510  AT&T Mobility Spectrum, LLC  KNKA679      12      47   \n",
      "1   28      11510  AT&T Mobility Spectrum, LLC  KNKA679       6      47   \n",
      "2   29      11510  AT&T Mobility Spectrum, LLC  KNKA679       7      47   \n",
      "3   30      11510  AT&T Mobility Spectrum, LLC  KNKA679       8      47   \n",
      "4   31      11510  AT&T Mobility Spectrum, LLC  KNKA679       9      47   \n",
      "\n",
      "   LatMin  LatSec LatDir  LonDeg  ...  AllStruc  StrucType LicStatus  \\\n",
      "0      41     1.6      N     122  ...      12.8          B         A   \n",
      "1      41    28.0      N     122  ...      45.4     MTOWER         A   \n",
      "2      28    49.0      N     122  ...     128.9     GTOWER         A   \n",
      "3      41    31.2      N     122  ...      50.9     MTOWER         A   \n",
      "4      31     1.5      N     122  ...      47.8     MTOWER         A   \n",
      "\n",
      "      latdec      londec                                                url  \\\n",
      "0  47.683778 -122.363583  http://wireless2.fcc.gov/UlsApp/UlsSearch/lice...   \n",
      "1  47.691111 -122.715278  http://wireless2.fcc.gov/UlsApp/UlsSearch/lice...   \n",
      "2  47.480278 -122.533889  http://wireless2.fcc.gov/UlsApp/UlsSearch/lice...   \n",
      "3  47.692000 -122.821667  http://wireless2.fcc.gov/UlsApp/UlsSearch/lice...   \n",
      "4  47.517083 -122.572167  http://wireless2.fcc.gov/UlsApp/UlsSearch/lice...   \n",
      "\n",
      "  elevation      slope                     geometry  raw_population_density  \n",
      "0     349.0  48.189685  POINT (-122.36358 47.68378)                0.135191  \n",
      "1      76.0  85.642828  POINT (-122.71528 47.69111)               19.447487  \n",
      "2      78.0  74.206831  POINT (-122.53389 47.48028)                1.497651  \n",
      "3     155.0  85.568525    POINT (-122.82167 47.692)                0.531920  \n",
      "4      23.0  78.690068  POINT (-122.57217 47.51708)                0.000000  \n",
      "\n",
      "[5 rows x 31 columns]\n"
     ]
    }
   ],
   "source": [
    "# Cell 1: Load and process raw population density from .tif\n",
    "import rasterio\n",
    "from rasterio.warp import transform as warp_transform  # Rename to avoid conflict\n",
    "from rasterio.mask import mask\n",
    "import numpy as np\n",
    "import geopandas as gpd\n",
    "import pandas as pd\n",
    "from shapely.geometry import box\n",
    "\n",
    "# Load the population density GeoTIFF\n",
    "with rasterio.open(\"usa_pd_2020_1km_UNadj.tif\") as src:\n",
    "    # Read the first band (population density)\n",
    "    pop_density = src.read(1)\n",
    "    # Geospatial transform and CRS\n",
    "    pop_transform = src.transform  # Affine transform\n",
    "    pop_crs = src.crs\n",
    "    # Get raster bounds\n",
    "    raster_bounds = src.bounds\n",
    "\n",
    "    # Load the cellular data with elevation and slope\n",
    "    cellular_data = gpd.read_file(\"cellular_data_with_slope.geojson\")\n",
    "\n",
    "    # Check CRS of cellular_data and raster\n",
    "    print(\"Cellular Data CRS:\", cellular_data.crs)\n",
    "    print(\"Raster CRS:\", pop_crs)\n",
    "\n",
    "    # If CRS is different, transform cellular_data to match the raster's CRS\n",
    "    if cellular_data.crs != pop_crs:\n",
    "        cellular_data = cellular_data.to_crs(pop_crs)\n",
    "\n",
    "    # Check bounds of cellular_data and raster\n",
    "    print(\"Raster Bounds:\", raster_bounds)\n",
    "    print(\"Cellular Data Bounds:\", cellular_data.total_bounds)\n",
    "\n",
    "    # Clip the raster to the bounds of cellular_data (optional, but recommended)\n",
    "    bbox = box(*cellular_data.total_bounds)  # Create a bounding box\n",
    "    out_image, out_transform = mask(src, [bbox], crop=True)  # Clip the raster\n",
    "    pop_density = out_image[0]  # Update population density\n",
    "    pop_transform = out_transform  # Update transform\n",
    "\n",
    "# Function to get population density for a given lat/lon\n",
    "def get_population_density(lat, lon, pop_density, transform, src_crs, target_crs):\n",
    "    # Transform coordinates to the raster's CRS\n",
    "    x, y = warp_transform(target_crs, src_crs, [lon], [lat])  # Use warp_transform\n",
    "    row, col = ~transform * (x[0], y[0])  # Use the Affine transform\n",
    "    row, col = int(row), int(col)\n",
    "    if 0 <= row < pop_density.shape[0] and 0 <= col < pop_density.shape[1]:\n",
    "        return pop_density[row, col]\n",
    "    else:\n",
    "        return np.nan  # Return NaN for out-of-bounds coordinates\n",
    "\n",
    "# Add raw population density to cellular_data\n",
    "cellular_data['raw_population_density'] = cellular_data.apply(\n",
    "    lambda row: get_population_density(\n",
    "        row.geometry.y, row.geometry.x, pop_density, pop_transform, cellular_data.crs, pop_crs\n",
    "    ), axis=1\n",
    ")\n",
    "\n",
    "# Drop rows with missing raw population density values (optional)\n",
    "# cellular_data = cellular_data.dropna(subset=['raw_population_density'])\n",
    "\n",
    "# Print the updated cellular_data\n",
    "print(cellular_data.head())"
   ]
  },
  {
   "cell_type": "code",
   "execution_count": 7,
   "id": "d363f43c-e87c-47e7-ab7f-7b9ca9fc1eca",
   "metadata": {},
   "outputs": [
    {
     "name": "stdout",
     "output_type": "stream",
     "text": [
      "EPSG:4326\n",
      "EPSG:4326\n"
     ]
    }
   ],
   "source": [
    "print(cellular_data.crs)\n",
    "print(pop_crs)"
   ]
  },
  {
   "cell_type": "code",
   "execution_count": 8,
   "id": "9a0c9b26-00ae-4ca6-8195-c1dbefe4e36c",
   "metadata": {},
   "outputs": [
    {
     "name": "stdout",
     "output_type": "stream",
     "text": [
      "BoundingBox(left=-179.15124930330558, bottom=18.90791676654655, right=179.78208259429442, top=71.39124988994655)\n"
     ]
    }
   ],
   "source": [
    "print(src.bounds)"
   ]
  },
  {
   "cell_type": "code",
   "execution_count": 9,
   "id": "27a2cc76-a786-464f-a4d2-7ebfd9435871",
   "metadata": {},
   "outputs": [
    {
     "name": "stdout",
     "output_type": "stream",
     "text": [
      "[-124.66358333   28.34525    -100.00744444   49.00222222]\n"
     ]
    }
   ],
   "source": [
    "print(cellular_data.total_bounds)"
   ]
  },
  {
   "cell_type": "code",
   "execution_count": 3,
   "id": "5e85658f-05df-49e9-af64-fb78607599a4",
   "metadata": {},
   "outputs": [
    {
     "name": "stdout",
     "output_type": "stream",
     "text": [
      "   population_weighted_density                     geometry\n",
      "0                          NaN  POINT (-122.36358 47.68378)\n",
      "1                          NaN  POINT (-122.71528 47.69111)\n",
      "2                          NaN  POINT (-122.53389 47.48028)\n",
      "3                          NaN    POINT (-122.82167 47.692)\n",
      "4                          NaN  POINT (-122.57217 47.51708)\n"
     ]
    }
   ],
   "source": [
    "# # Cell 2: Load and process population-weighted density from .geojson\n",
    "# # Load the population-weighted density GeoJSON\n",
    "# us_population = gpd.read_file(\"us_population.geojson\")\n",
    "\n",
    "# # Use PWD_A (arithmetic mean) as the population-weighted density\n",
    "# us_population['population_weighted_density'] = pd.to_numeric(us_population['PWD_A'], errors='coerce')\n",
    "\n",
    "# # Ensure both datasets are in the same CRS\n",
    "# if cellular_data.crs != us_population.crs:\n",
    "#     us_population = us_population.to_crs(cellular_data.crs)\n",
    "\n",
    "# # Check if 'index_right' exists in cellular_data or us_population\n",
    "# if 'index_right' in cellular_data.columns:\n",
    "#     cellular_data = cellular_data.drop(columns=['index_right'])\n",
    "# if 'index_right' in us_population.columns:\n",
    "#     us_population = us_population.drop(columns=['index_right'])\n",
    "\n",
    "# # Spatial join to add population-weighted density to cellular data\n",
    "# cellular_data = gpd.sjoin(cellular_data, us_population[['population_weighted_density', 'geometry']], how=\"left\", predicate=\"within\")\n",
    "\n",
    "# # Drop rows with missing population-weighted density values\n",
    "# # cellular_data = cellular_data.dropna(subset=['population_weighted_density'])\n",
    "\n",
    "# # Check for multiple geometry columns and drop extras\n",
    "# geometry_columns = [col for col in cellular_data.columns if isinstance(cellular_data[col], gpd.GeoSeries)]\n",
    "# if len(geometry_columns) > 1:\n",
    "#     # Drop all geometry columns except the primary 'geometry' column\n",
    "#     columns_to_drop = [col for col in geometry_columns if col != 'geometry']\n",
    "#     cellular_data = cellular_data.drop(columns=columns_to_drop)\n",
    "# print(cellular_data[['population_weighted_density', 'geometry']].head())\n",
    "\n",
    "# # Save the updated data (optional)\n",
    "# cellular_data.to_file(\"cellular_data_with_population.geojson\", driver=\"GeoJSON\")"
   ]
  },
  {
   "cell_type": "code",
   "execution_count": 15,
   "id": "e07a3df3-4563-4d95-babc-c064ac36b883",
   "metadata": {},
   "outputs": [
    {
     "name": "stdout",
     "output_type": "stream",
     "text": [
      "Cellular Data Bounds: [ 376690.27201383 3356317.91547789 2762613.91151871 5676448.00812821]\n",
      "US Population Bounds: [3234259.18965274 4596883.09379876 3234259.18965274 4596883.09379876]\n"
     ]
    }
   ],
   "source": [
    "# Check bounds of cellular_data and us_population\n",
    "print(\"Cellular Data Bounds:\", cellular_data.total_bounds)\n",
    "print(\"US Population Bounds:\", us_population.total_bounds)"
   ]
  },
  {
   "cell_type": "code",
   "execution_count": 17,
   "id": "d9554d35-91fa-4a8a-afb2-16dad9509fd0",
   "metadata": {},
   "outputs": [
    {
     "name": "stdout",
     "output_type": "stream",
     "text": [
      "Cellular Data CRS: EPSG:32610\n",
      "US Population CRS: EPSG:32610\n"
     ]
    }
   ],
   "source": [
    "# Check CRS of both datasets\n",
    "print(\"Cellular Data CRS:\", cellular_data.crs)\n",
    "print(\"US Population CRS:\", us_population.crs)"
   ]
  },
  {
   "cell_type": "code",
   "execution_count": 21,
   "id": "54e31b3c-1782-41d9-869b-23e23e6e591a",
   "metadata": {},
   "outputs": [
    {
     "name": "stdout",
     "output_type": "stream",
     "text": [
      "US Population Columns: Index(['lon', 'lat', 'year', 'ISO', 'ISO_No', 'Name', 'PWC_Lat', 'PWC_Lon',\n",
      "       'Pop', 'Density',\n",
      "       ...\n",
      "       'PWD_P92', 'PWD_P93', 'PWD_P94', 'PWD_P95', 'PWD_P96', 'PWD_P97',\n",
      "       'PWD_P98', 'PWD_P99', 'PWD_P100', 'geometry'],\n",
      "      dtype='object', length=115)\n",
      "       lon      lat  year  ISO ISO_No           Name  PWC_Lat   PWC_Lon  \\\n",
      "0 -92.4788  37.3172  2020  USA    840  United States  37.3172  -92.4788   \n",
      "\n",
      "         Pop Density  ...  PWD_P92  PWD_P93  PWD_P94  PWD_P95  PWD_P96  \\\n",
      "0  331002647    36.1  ...  11054.1  12283.2  13841.5  15874.6  18744.1   \n",
      "\n",
      "   PWD_P97  PWD_P98  PWD_P99  PWD_P100                  geometry  \n",
      "0  23143.1  30722.0  47778.3  485077.8  POINT (-92.4788 37.3172)  \n",
      "\n",
      "[1 rows x 115 columns]\n"
     ]
    }
   ],
   "source": [
    "# Reload us_population\n",
    "us_population = gpd.read_file(\"us_population.geojson\")\n",
    "\n",
    "# Check the columns\n",
    "print(\"US Population Columns:\", us_population.columns)\n",
    "\n",
    "# Check the first few rows\n",
    "print(us_population.head())"
   ]
  },
  {
   "cell_type": "code",
   "execution_count": 18,
   "id": "f550aee8-c668-4439-aef4-4aeeaa3934c1",
   "metadata": {},
   "outputs": [
    {
     "name": "stdout",
     "output_type": "stream",
     "text": [
      "Cellular Data CRS: EPSG:4326\n",
      "US Population CRS: EPSG:4326\n"
     ]
    }
   ],
   "source": [
    "# Reproject cellular_data to EPSG:4326\n",
    "cellular_data = cellular_data.to_crs(\"EPSG:4326\")\n",
    "\n",
    "# Reproject us_population to EPSG:4326\n",
    "us_population = us_population.to_crs(\"EPSG:4326\")\n",
    "\n",
    "# Check CRS of both datasets\n",
    "print(\"Cellular Data CRS:\", cellular_data.crs)\n",
    "print(\"US Population CRS:\", us_population.crs)"
   ]
  },
  {
   "cell_type": "code",
   "execution_count": 22,
   "id": "cdc6b1f8-182e-432f-abc0-9663fcdcfbc0",
   "metadata": {},
   "outputs": [
    {
     "name": "stdout",
     "output_type": "stream",
     "text": [
      "    PWD_A  population_weighted_density\n",
      "0  4445.0                       4445.0\n"
     ]
    }
   ],
   "source": [
    "# Convert PWD_A to numeric and create population_weighted_density column\n",
    "us_population['population_weighted_density'] = pd.to_numeric(us_population['PWD_A'], errors='coerce')\n",
    "\n",
    "# Check the result\n",
    "print(us_population[['PWD_A', 'population_weighted_density']].head())"
   ]
  },
  {
   "cell_type": "code",
   "execution_count": 24,
   "id": "b8062cfd-8327-4f95-9dff-9fbcb47e9cb7",
   "metadata": {},
   "outputs": [
    {
     "name": "stdout",
     "output_type": "stream",
     "text": [
      "US subnat Population Columns: Index(['lon', 'lat', 'year', 'ISO', 'ISO_No', 'Country_N', 'Adm_N', 'GID_1',\n",
      "       'HASC', 'PWC_Lat', 'PWC_Lon', 'Pop', 'Density', 'Area', 'PWD_A',\n",
      "       'PWD_G', 'PWD_M', 'PWD_D1', 'PWD_D2', 'PWD_D3', 'PWD_D4', 'PWD_D5',\n",
      "       'PWD_D6', 'PWD_D7', 'PWD_D8', 'PWD_D9', 'PWD_D10', 'geometry'],\n",
      "      dtype='object')\n",
      "          lon        lat  year  ISO ISO_No      Country_N       Adm_N  \\\n",
      "0  -86.745407  33.015068  2020  USA    840  United States     Alabama   \n",
      "1 -149.075200  61.505200  2020  USA    840  United States      Alaska   \n",
      "2 -111.880226  33.363468  2020  USA    840  United States     Arizona   \n",
      "3  -92.735825  35.205795  2020  USA    840  United States    Arkansas   \n",
      "4 -119.334503  35.463676  2020  USA    840  United States  California   \n",
      "\n",
      "     GID_1   HASC           PWC_Lat  ...  PWD_D2  PWD_D3  PWD_D4  PWD_D5  \\\n",
      "0  USA.1_1  US.AL  33.0150680541992  ...    84.6   179.5   341.5   582.0   \n",
      "1  USA.2_1  US.AK           61.5052  ...   156.5   340.6   652.2  1214.0   \n",
      "2  USA.3_1  US.AZ   33.363468170166  ...  1009.2  1602.5  2175.9  2769.1   \n",
      "3  USA.4_1  US.AR  35.2057952880859  ...    66.5   152.6   337.9   639.9   \n",
      "4  USA.5_1  US.CA  35.4636764526367  ...  1800.7  2561.5  3287.9  4072.8   \n",
      "\n",
      "   PWD_D6  PWD_D7  PWD_D8   PWD_D9   PWD_D10                     geometry  \n",
      "0   883.6  1259.8  1783.9   2847.1   87827.4   POINT (-86.74541 33.01507)  \n",
      "1  2020.2  2891.0  3936.8   5962.5   87939.8    POINT (-149.0752 61.5052)  \n",
      "2  3429.0  4246.2  5517.5   8322.4  290712.3  POINT (-111.88023 33.36347)  \n",
      "3  1051.5  1554.5  2188.2   3366.3  106071.6    POINT (-92.73582 35.2058)  \n",
      "4  5031.6  6368.5  8559.6  12963.0  255715.7   POINT (-119.3345 35.46368)  \n",
      "\n",
      "[5 rows x 28 columns]\n"
     ]
    }
   ],
   "source": [
    "# load us_population\n",
    "us_sub_population = gpd.read_file(\"us_sub_population.geojson\")\n",
    "\n",
    "# Check the columns\n",
    "print(\"US subnat Population Columns:\", us_sub_population.columns)\n",
    "\n",
    "# Check the first few rows\n",
    "print(us_sub_population.head())"
   ]
  },
  {
   "cell_type": "code",
   "execution_count": 25,
   "id": "cb049a25-acf5-4757-a9cc-149cd856a7ef",
   "metadata": {},
   "outputs": [
    {
     "name": "stdout",
     "output_type": "stream",
     "text": [
      "Cellular Data CRS: EPSG:4326\n",
      "US Population CRS: EPSG:4326\n"
     ]
    }
   ],
   "source": [
    "# Reproject cellular_data to EPSG:4326\n",
    "cellular_data = cellular_data.to_crs(\"EPSG:4326\")\n",
    "\n",
    "# Reproject us_population to EPSG:4326\n",
    "us_population = us_population.to_crs(\"EPSG:4326\")\n",
    "\n",
    "# Check CRS of both datasets\n",
    "print(\"Cellular Data CRS:\", cellular_data.crs)\n",
    "print(\"US Population CRS:\", us_population.crs)"
   ]
  },
  {
   "cell_type": "code",
   "execution_count": 26,
   "id": "9c428d0e-dd3b-4dec-bf54-3c689e50fa87",
   "metadata": {},
   "outputs": [
    {
     "name": "stdout",
     "output_type": "stream",
     "text": [
      "    PWD_A  population_weighted_density_sub\n",
      "0  1403.5                           1403.5\n",
      "1  2476.7                           2476.7\n",
      "2  4544.3                           4544.3\n",
      "3  1551.4                           1551.4\n",
      "4  6174.3                           6174.3\n"
     ]
    }
   ],
   "source": [
    "# Convert PWD_A to numeric and create population_weighted_density column\n",
    "us_sub_population['population_weighted_density_sub'] = pd.to_numeric(us_sub_population['PWD_A'], errors='coerce')\n",
    "\n",
    "# Check the result\n",
    "print(us_sub_population[['PWD_A', 'population_weighted_density_sub']].head())"
   ]
  },
  {
   "cell_type": "code",
   "execution_count": 56,
   "id": "79e73564-817e-4ed5-9f6f-ce56a4720fb1",
   "metadata": {},
   "outputs": [],
   "source": [
    "# Drop 'index_right' if it exists in either dataset\n",
    "if 'index_right' in cellular_data.columns:\n",
    "    cellular_data = cellular_data.drop(columns=['index_right'])\n",
    "if 'index_right' in us_sub_population.columns:\n",
    "    us_sub_population = us_sub_population.drop(columns=['index_right'])"
   ]
  },
  {
   "cell_type": "code",
   "execution_count": 57,
   "id": "4ee645a0-5bf5-4810-bad1-c0a7c1668764",
   "metadata": {},
   "outputs": [
    {
     "name": "stdout",
     "output_type": "stream",
     "text": [
      "Cellular Data CRS: EPSG:32610\n",
      "US Subnat Population CRS: EPSG:32610\n"
     ]
    }
   ],
   "source": [
    "# Reproject cellular_data to a projected CRS (e.g., UTM zone 10N for the US)\n",
    "cellular_data = cellular_data.to_crs(\"EPSG:32610\")\n",
    "\n",
    "# Reproject us_sub_population to the same projected CRS\n",
    "us_sub_population = us_sub_population.to_crs(\"EPSG:32610\")\n",
    "\n",
    "# Check CRS of both datasets\n",
    "print(\"Cellular Data CRS:\", cellular_data.crs)\n",
    "print(\"US Subnat Population CRS:\", us_sub_population.crs)"
   ]
  },
  {
   "cell_type": "code",
   "execution_count": 58,
   "id": "14c8b176-2ae4-4dc9-ad2b-f172173beda7",
   "metadata": {},
   "outputs": [
    {
     "name": "stdout",
     "output_type": "stream",
     "text": [
      "   population_weighted_density_sub  \\\n",
      "0                           3391.5   \n",
      "1                           3391.5   \n",
      "2                           3391.5   \n",
      "3                           3391.5   \n",
      "4                           3391.5   \n",
      "\n",
      "                                            geometry  \n",
      "0  POLYGON ((548513.619 5281356.776, 548510.914 5...  \n",
      "1  POLYGON ((522115.859 5282011.5, 522112.66 5281...  \n",
      "2  POLYGON ((535870.952 5258647.735, 535867.991 5...  \n",
      "3  POLYGON ((514132.235 5282085.403, 514128.886 5...  \n",
      "4  POLYGON ((532964.004 5262721.197, 532960.993 5...  \n"
     ]
    }
   ],
   "source": [
    "# Perform a nearest join\n",
    "cellular_data = gpd.sjoin_nearest(\n",
    "    cellular_data,\n",
    "    us_sub_population[['population_weighted_density_sub', 'geometry']],\n",
    "    how=\"left\"\n",
    ")\n",
    "\n",
    "# Check the result\n",
    "print(cellular_data[['population_weighted_density_sub', 'geometry']].head())"
   ]
  },
  {
   "cell_type": "code",
   "execution_count": 61,
   "id": "03739d4f-00c4-4fb3-9f06-fc9107e42cf3",
   "metadata": {},
   "outputs": [
    {
     "name": "stdout",
     "output_type": "stream",
     "text": [
      "Columns after ensuring one population_weighted_density_sub: Index(['FID', 'UniqSysID', 'Licensee', 'Callsign', 'LocNum', 'LatDeg',\n",
      "       'LatMin', 'LatSec', 'LatDir', 'LonDeg', 'LonMin', 'LonSec', 'LonDir',\n",
      "       'LocAdd', 'LocCity', 'LocCounty', 'LocState', 'Nepa', 'QZone', 'TowReg',\n",
      "       'SupStruc', 'AllStruc', 'StrucType', 'LicStatus', 'latdec', 'londec',\n",
      "       'url', 'elevation', 'slope', 'geometry', 'raw_population_density',\n",
      "       'population_weighted_density_left', 'population_weighted_density_right',\n",
      "       'Adm_N_left', 'Adm_N_right', 'index_right',\n",
      "       'population_weighted_density_sub'],\n",
      "      dtype='object')\n"
     ]
    }
   ],
   "source": [
    "# Drop all duplicate columns except for 'population_weighted_density_sub'\n",
    "columns_to_drop = [\n",
    "    col for col in cellular_data.columns \n",
    "    if col.startswith('population_weighted_density_sub') and col != 'population_weighted_density_sub'\n",
    "]\n",
    "cellular_data = cellular_data.drop(columns=columns_to_drop)\n",
    "\n",
    "# Check if multiple 'population_weighted_density_sub' columns exist\n",
    "population_density_cols = [col for col in cellular_data.columns if col == 'population_weighted_density_sub']\n",
    "if len(population_density_cols) > 1:\n",
    "    # Keep the first occurrence and drop the rest\n",
    "    columns_to_drop = population_density_cols[1:]\n",
    "    cellular_data = cellular_data.drop(columns=columns_to_drop)\n",
    "\n",
    "# Check the columns again\n",
    "print(\"Columns after ensuring one population_weighted_density_sub:\", cellular_data.columns)\n",
    "\n",
    "# Save the updated GeoDataFrame\n",
    "cellular_data.to_file(\"cellular_data_with_population.geojson\", driver=\"GeoJSON\")"
   ]
  },
  {
   "cell_type": "code",
   "execution_count": 38,
   "id": "90a83041-05a8-401d-b5f3-5087d612e6cd",
   "metadata": {},
   "outputs": [
    {
     "name": "stdout",
     "output_type": "stream",
     "text": [
      "Number of unique points in us_sub_population: 50\n",
      "Unique population_weighted_density_sub values: [ 1403.5  2476.7  4544.3  1551.4  6174.3  3953.   3041.4  3315.   3722.6\n",
      "  2002.9  7874.   2522.8  5357.9  2203.   2090.9  2199.2  1746.7  1985.1\n",
      "  1206.1  5452.6  5206.5  2031.1  2466.6  1410.9  2093.7  1697.5  2850.\n",
      "  6290.   1657.4  6072.1  2567.6 16837.7  1721.   2490.2  2173.9  2277.3\n",
      "  3464.   4150.9  3963.2  1575.3  1988.5  1710.2  4387.2  3982.8  1283.9\n",
      "  3966.3  3391.5  1543.2  2470.6  2222. ]\n"
     ]
    }
   ],
   "source": [
    "# Check the number of unique points in us_sub_population\n",
    "print(\"Number of unique points in us_sub_population:\", us_sub_population.shape[0])\n",
    "\n",
    "# Check unique values in population_weighted_density_sub\n",
    "print(\"Unique population_weighted_density_sub values:\", us_sub_population['population_weighted_density_sub'].unique())"
   ]
  },
  {
   "cell_type": "code",
   "execution_count": 62,
   "id": "3a2c4ab1-a9b4-4b0d-9a5e-7b1eea33842e",
   "metadata": {},
   "outputs": [
    {
     "name": "stdout",
     "output_type": "stream",
     "text": [
      "  DATE_CREAT  VERSION  MARKET DATE_GRANT    FILE_NUM   ULS_ID CALL_SIGN BLOCK  \\\n",
      "0 2011-08-23  Current  CMA344 2002-05-21  0000810807  1116748   KNKN260     A   \n",
      "1 2011-07-15  Current  CMA252 2011-02-18  0004434164  5773025   KNKA802     A   \n",
      "2 2011-07-15  Current  CMA252 2011-02-18  0004434164  5773025   KNKA802     A   \n",
      "3 2011-09-28  Current  CMA463 2004-12-29  0001980738  2690709   KNKN659     A   \n",
      "4 2011-08-24  Current  CMA514 2004-05-13  0001592587  2430688   KNKQ450     A   \n",
      "\n",
      "        AsOf                                           geometry  \n",
      "0 2014-01-09  POLYGON ((-123.54362 38.77622, -123.54589 38.7...  \n",
      "1 2014-01-09  POLYGON ((-88.88832 30.24044, -88.88827 30.240...  \n",
      "2 2014-01-09  POLYGON ((-88.4123 30.73246, -88.41171 30.7173...  \n",
      "3 2014-01-09  POLYGON ((-70.5206 45.56077, -70.50623 45.5137...  \n",
      "4 2014-01-09  MULTIPOLYGON (((-92.21017 38.01685, -92.21001 ...  \n",
      "  DATE_CREAT  VERSION  MARKET DATE_GRANT    FILE_NUM   ULS_ID CALL_SIGN BLOCK  \\\n",
      "0 2011-11-21  Current  CMA570 2010-04-09  0004048946  5242821   KNKQ291     B   \n",
      "1 2011-11-21  Current  CMA574 2011-05-24  0004654977  6151840   KNKN645     B   \n",
      "2 2012-03-14  Current  CMA627 2001-07-10  0000515957   845585   KNKN969     B   \n",
      "3 2011-12-06  Current  CMA597 2006-06-16  0002652835  3530779   KNKN703     B   \n",
      "4 2011-12-27  Current  CMA315 2005-10-11  0002283873  3094111   KNKN204     B   \n",
      "\n",
      "        AsOf                                           geometry  \n",
      "0 2014-01-09  POLYGON ((-79.46836 35.84342, -79.46816 35.843...  \n",
      "1 2014-01-09  POLYGON ((-77.8255 35.51783, -77.8255 35.51777...  \n",
      "2 2014-01-09  POLYGON ((-81.36745 35.16862, -81.39935 35.131...  \n",
      "3 2014-01-09  POLYGON ((-98.1114 36.97145, -98.11138 36.9695...  \n",
      "4 2014-01-09  POLYGON ((-156.5586 71.50986, -156.55485 71.50...  \n"
     ]
    }
   ],
   "source": [
    "import geopandas as gpd\n",
    "\n",
    "# Load the GeoJSON files\n",
    "a_block = gpd.read_file(\"A_Block_CGSA.geojson\")\n",
    "b_block = gpd.read_file(\"B_Block_CGSA.geojson\")\n",
    "\n",
    "# Check the data\n",
    "print(a_block.head())\n",
    "print(b_block.head())"
   ]
  },
  {
   "cell_type": "code",
   "execution_count": 63,
   "id": "82c71add-b15b-4430-9d78-6d11e796e6e5",
   "metadata": {},
   "outputs": [
    {
     "ename": "NameError",
     "evalue": "name 'all_cgsas_projected' is not defined",
     "output_type": "error",
     "traceback": [
      "\u001b[0;31m---------------------------------------------------------------------------\u001b[0m",
      "\u001b[0;31mNameError\u001b[0m                                 Traceback (most recent call last)",
      "Cell \u001b[0;32mIn[63], line 4\u001b[0m\n\u001b[1;32m      1\u001b[0m \u001b[38;5;28;01mimport\u001b[39;00m \u001b[38;5;21;01mmatplotlib\u001b[39;00m\u001b[38;5;21;01m.\u001b[39;00m\u001b[38;5;21;01mpyplot\u001b[39;00m \u001b[38;5;28;01mas\u001b[39;00m \u001b[38;5;21;01mplt\u001b[39;00m\n\u001b[1;32m      3\u001b[0m \u001b[38;5;66;03m# Plot the CGSAs\u001b[39;00m\n\u001b[0;32m----> 4\u001b[0m \u001b[43mall_cgsas_projected\u001b[49m\u001b[38;5;241m.\u001b[39mplot(color\u001b[38;5;241m=\u001b[39m\u001b[38;5;124m'\u001b[39m\u001b[38;5;124mlightblue\u001b[39m\u001b[38;5;124m'\u001b[39m, edgecolor\u001b[38;5;241m=\u001b[39m\u001b[38;5;124m'\u001b[39m\u001b[38;5;124mblack\u001b[39m\u001b[38;5;124m'\u001b[39m, figsize\u001b[38;5;241m=\u001b[39m(\u001b[38;5;241m10\u001b[39m, \u001b[38;5;241m10\u001b[39m))\n\u001b[1;32m      6\u001b[0m \u001b[38;5;66;03m# Plot the points\u001b[39;00m\n\u001b[1;32m      7\u001b[0m cellular_data_projected\u001b[38;5;241m.\u001b[39mplot(ax\u001b[38;5;241m=\u001b[39mplt\u001b[38;5;241m.\u001b[39mgca(), color\u001b[38;5;241m=\u001b[39m\u001b[38;5;124m'\u001b[39m\u001b[38;5;124mred\u001b[39m\u001b[38;5;124m'\u001b[39m, markersize\u001b[38;5;241m=\u001b[39m\u001b[38;5;241m5\u001b[39m)\n",
      "\u001b[0;31mNameError\u001b[0m: name 'all_cgsas_projected' is not defined"
     ]
    }
   ],
   "source": [
    "import matplotlib.pyplot as plt\n",
    "\n",
    "# Plot the CGSAs\n",
    "all_cgsas_projected.plot(color='lightblue', edgecolor='black', figsize=(10, 10))\n",
    "\n",
    "# Plot the points\n",
    "cellular_data_projected.plot(ax=plt.gca(), color='red', markersize=5)\n",
    "\n",
    "plt.title(\"Points and CGSAs in Projected CRS\")\n",
    "plt.show()"
   ]
  },
  {
   "cell_type": "code",
   "execution_count": 19,
   "id": "e56a3afc-01f9-438f-ba76-efe8a9e069f9",
   "metadata": {},
   "outputs": [
    {
     "name": "stdout",
     "output_type": "stream",
     "text": [
      "Invalid geometries found: 138\n"
     ]
    }
   ],
   "source": [
    "# Check for invalid geometries in all_cgsas_projected\n",
    "invalid_geometries = all_cgsas_projected[~all_cgsas_projected.geometry.is_valid]\n",
    "print(\"Invalid geometries found:\", len(invalid_geometries))"
   ]
  },
  {
   "cell_type": "code",
   "execution_count": 20,
   "id": "f32072c6-1f48-47af-b91e-91991d430423",
   "metadata": {},
   "outputs": [
    {
     "name": "stdout",
     "output_type": "stream",
     "text": [
      "     DATE_CREAT  VERSION  MARKET DATE_GRANT    FILE_NUM   ULS_ID CALL_SIGN  \\\n",
      "3    2011-09-28  Current  CMA463 2004-12-29  0001980738  2690709   KNKN659   \n",
      "22   2011-08-01  Current  CMA172 2009-08-24  0003652403  5057766   KNKA784   \n",
      "40   2011-11-16  Current  CMA535 2002-09-14  0001028369  1472357   KNKN444   \n",
      "98   2012-01-19  Current  CMA511 2012-01-30  0004952484  6457627   KNKN377   \n",
      "152  2012-03-22  Current  CMA641 2012-05-15  0004941659  6693916   KNKN272   \n",
      "...         ...      ...     ...        ...         ...      ...       ...   \n",
      "2138 2013-11-06  Pending  CMA146        NaT  0006003844  7939534   KNKA703   \n",
      "2150 2013-11-12  Pending  CMA364        NaT  0006010468  7947270   KNKQ335   \n",
      "2200 2013-12-05  Current  CMA313 2013-12-06  0005923795  7967637   KNKN725   \n",
      "2216 2013-12-09  Pending  CMA117        NaT  0006047957  8000454   KNKA371   \n",
      "2243 2014-01-07  Pending  CMA005        NaT  0005903074  8050709   KNKA231   \n",
      "\n",
      "     BLOCK       AsOf                                           geometry  \n",
      "3        A 2014-01-09  POLYGON ((-7850316.84 5710239.6, -7848717.176 ...  \n",
      "22       A 2014-01-09  POLYGON ((-10796807.53 5019155.281, -10796807....  \n",
      "40       A 2014-01-09  MULTIPOLYGON (((-10758948.022 5239856.929, -10...  \n",
      "98       A 2014-01-09  POLYGON ((-10156846.463 4733434.14, -10156896....  \n",
      "152      A 2014-01-09  POLYGON ((-10803282.97 5549904.948, -10803211....  \n",
      "...    ...        ...                                                ...  \n",
      "2138     B 2014-01-09  POLYGON ((-9060906.949 3378152.115, -9060836.8...  \n",
      "2150     B 2014-01-09  POLYGON ((-9081553.82 3482920.047, -9079673.52...  \n",
      "2200     B 2014-01-09  POLYGON ((-9691526.075 3740870.286, -9674434.1...  \n",
      "2216     B 2014-01-09  POLYGON ((-11606072.824 4740130.693, -11591038...  \n",
      "2243     B 2014-01-09  POLYGON ((-9165387.081 5337946.519, -9166610.1...  \n",
      "\n",
      "[138 rows x 10 columns]\n"
     ]
    }
   ],
   "source": [
    "print(invalid_geometries)"
   ]
  },
  {
   "cell_type": "code",
   "execution_count": 21,
   "id": "974a484b-2ae9-42ab-836f-17a03bb21a63",
   "metadata": {},
   "outputs": [],
   "source": [
    "# Fix invalid geometries using buffer(0)\n",
    "all_cgsas_projected.geometry = all_cgsas_projected.geometry.buffer(0)"
   ]
  },
  {
   "cell_type": "code",
   "execution_count": 22,
   "id": "faf4d909-2342-43b0-83ae-04568db14981",
   "metadata": {},
   "outputs": [
    {
     "name": "stdout",
     "output_type": "stream",
     "text": [
      "Invalid geometries after fixing: 0\n"
     ]
    }
   ],
   "source": [
    "invalid_geometries = all_cgsas_projected[~all_cgsas_projected.geometry.is_valid]\n",
    "print(\"Invalid geometries after fixing:\", len(invalid_geometries))"
   ]
  },
  {
   "cell_type": "code",
   "execution_count": 24,
   "id": "cacf0756-7508-4e6a-b99d-06173bbe8b37",
   "metadata": {},
   "outputs": [
    {
     "data": {
      "image/png": "[encoded data removed]",
      "text/plain": [
       "<Figure size 1000x1000 with 1 Axes>"
      ]
     },
     "metadata": {},
     "output_type": "display_data"
    }
   ],
   "source": [
    "# Visualize the points and CGSAs\n",
    "import matplotlib.pyplot as plt\n",
    "\n",
    "# Plot the CGSAs\n",
    "all_cgsas_projected.plot(color='lightblue', edgecolor='black', figsize=(10, 10))\n",
    "\n",
    "# Plot the points\n",
    "cellular_data_projected.plot(ax=plt.gca(), color='red', markersize=5)\n",
    "\n",
    "plt.title(\"Points and CGSAs in Projected CRS\")\n",
    "plt.show()"
   ]
  },
  {
   "cell_type": "code",
   "execution_count": 25,
   "id": "47685bca-0aea-4953-b499-8723ffeccd18",
   "metadata": {},
   "outputs": [
    {
     "name": "stdout",
     "output_type": "stream",
     "text": [
      "                      geometry  distance_to_nearest_cgsa_boundary_meters  \\\n",
      "0  POINT (-122.36358 47.68378)                               4346.860883   \n",
      "1  POINT (-122.71528 47.69111)                               3321.062695   \n",
      "2  POINT (-122.53389 47.48028)                               1350.991269   \n",
      "3    POINT (-122.82167 47.692)                                751.277536   \n",
      "4  POINT (-122.57217 47.51708)                               3072.048010   \n",
      "\n",
      "   distance_to_nearest_cgsa_boundary_km  \n",
      "0                              4.346861  \n",
      "1                              3.321063  \n",
      "2                              1.350991  \n",
      "3                              0.751278  \n",
      "4                              3.072048  \n"
     ]
    }
   ],
   "source": [
    "from shapely.geometry import Polygon\n",
    "\n",
    "# Create a boundary for the CGSAs\n",
    "all_cgsas_boundary = all_cgsas_projected.geometry.boundary\n",
    "\n",
    "# Function to calculate distance to nearest CGSA boundary\n",
    "def distance_to_nearest_cgsa_boundary(point, boundaries):\n",
    "    return boundaries.distance(point).min()\n",
    "\n",
    "# Add distance to nearest CGSA boundary as a feature (in meters)\n",
    "cellular_data['distance_to_nearest_cgsa_boundary_meters'] = cellular_data_projected.geometry.apply(\n",
    "    lambda point: distance_to_nearest_cgsa_boundary(point, all_cgsas_boundary))\n",
    "\n",
    "# Convert distances to kilometers\n",
    "cellular_data['distance_to_nearest_cgsa_boundary_km'] = cellular_data['distance_to_nearest_cgsa_boundary_meters'] / 1000\n",
    "\n",
    "# Check the updated cellular_data\n",
    "print(cellular_data[['geometry', 'distance_to_nearest_cgsa_boundary_meters', 'distance_to_nearest_cgsa_boundary_km']].head())"
   ]
  },
  {
   "cell_type": "code",
   "execution_count": 64,
   "id": "c0f63eff-fdb2-400b-b577-747f4800d9e8",
   "metadata": {},
   "outputs": [
    {
     "name": "stdout",
     "output_type": "stream",
     "text": [
      "                                            geometry  \\\n",
      "0  POLYGON ((-122.35358 47.68378, -122.35363 47.6...   \n",
      "1  POLYGON ((-122.70528 47.69111, -122.70533 47.6...   \n",
      "2  POLYGON ((-122.52389 47.48028, -122.52394 47.4...   \n",
      "3  POLYGON ((-122.81167 47.692, -122.81171 47.691...   \n",
      "4  POLYGON ((-122.56217 47.51708, -122.56221 47.5...   \n",
      "\n",
      "   distance_to_nearest_tower_meters  distance_to_nearest_tower_km  \n",
      "0                      29609.666168                     29.609666  \n",
      "1                      10698.982082                     10.698982  \n",
      "2                      25458.599057                     25.458599  \n",
      "3                      19560.462769                     19.560463  \n",
      "4                      18049.817908                     18.049818  \n"
     ]
    }
   ],
   "source": [
    "import geopandas as gpd\n",
    "from shapely.geometry import Point\n",
    "\n",
    "# Combine A and B Block CGSAs into a single GeoDataFrame\n",
    "all_cgsas = gpd.GeoDataFrame(pd.concat([a_block, b_block], ignore_index=True))\n",
    "\n",
    "# Load your cellular data\n",
    "cellular_data = gpd.read_file(\"cellular_data_with_population.geojson\")\n",
    "\n",
    "# Ensure all data is in EPSG:4326\n",
    "cellular_data = cellular_data.to_crs(\"EPSG:4326\")\n",
    "all_cgsas = all_cgsas.to_crs(\"EPSG:4326\")\n",
    "\n",
    "# Temporarily reproject to a projected CRS (e.g., EPSG:3857) for distance calculations\n",
    "projected_crs = \"EPSG:3857\"  # Web Mercator (units in meters)\n",
    "cellular_data_projected = cellular_data.to_crs(projected_crs)\n",
    "all_cgsas_projected = all_cgsas.to_crs(projected_crs)\n",
    "\n",
    "# Calculate centroids of CGSAs (approximate cell tower locations)\n",
    "all_cgsas_projected['centroid'] = all_cgsas_projected.geometry.centroid\n",
    "\n",
    "# Function to calculate distance to nearest cell tower (CGSA centroid)\n",
    "def distance_to_nearest_tower(point, towers):\n",
    "    return towers.distance(point).min()\n",
    "\n",
    "# Add distance to nearest cell tower as a feature (in meters)\n",
    "cellular_data['distance_to_nearest_tower_meters'] = cellular_data_projected.geometry.apply(\n",
    "    lambda point: distance_to_nearest_tower(point, all_cgsas_projected['centroid']))\n",
    "\n",
    "# Convert distances to kilometers\n",
    "cellular_data['distance_to_nearest_tower_km'] = cellular_data['distance_to_nearest_tower_meters'] / 1000\n",
    "\n",
    "# Check the updated cellular_data\n",
    "print(cellular_data[['geometry', 'distance_to_nearest_tower_meters', 'distance_to_nearest_tower_km']].head())\n",
    "\n",
    "# Save the updated data\n",
    "cellular_data.to_file(\"cellular_data_with_tower_distance.geojson\", driver=\"GeoJSON\")"
   ]
  },
  {
   "cell_type": "code",
   "execution_count": 65,
   "id": "d79f7a31-c18c-4b33-b0f6-c3f0e1d5e819",
   "metadata": {},
   "outputs": [
    {
     "name": "stdout",
     "output_type": "stream",
     "text": [
      "Cellular Data CRS: EPSG:3857\n",
      "All CGSAs CRS: EPSG:3857\n",
      "Invalid geometries found: 138\n",
      "Invalid geometries after buffer(0): 0\n",
      "Invalid geometries after make_valid: 0\n"
     ]
    },
    {
     "name": "stderr",
     "output_type": "stream",
     "text": [
      "/tmp/ipykernel_2559/2337266770.py:57: DeprecationWarning: The 'unary_union' attribute is deprecated, use the 'union_all()' method instead.\n",
      "  points_within_cgsas = cellular_data_projected.geometry.within(all_cgsas_projected.unary_union)\n"
     ]
    },
    {
     "name": "stdout",
     "output_type": "stream",
     "text": [
      "Points within CGSAs: 5728\n",
      "                                            geometry  \\\n",
      "0  POLYGON ((-122.35358 47.68378, -122.35363 47.6...   \n",
      "1  POLYGON ((-122.70528 47.69111, -122.70533 47.6...   \n",
      "2  POLYGON ((-122.52389 47.48028, -122.52394 47.4...   \n",
      "3  POLYGON ((-122.81167 47.692, -122.81171 47.691...   \n",
      "4  POLYGON ((-122.56217 47.51708, -122.56221 47.5...   \n",
      "\n",
      "   distance_to_nearest_tower_meters  distance_to_nearest_tower_km  \n",
      "0                      29609.666168                     29.609666  \n",
      "1                      10698.982082                     10.698982  \n",
      "2                      25458.599057                     25.458599  \n",
      "3                      19560.462769                     19.560463  \n",
      "4                      18049.817908                     18.049818  \n"
     ]
    }
   ],
   "source": [
    "import geopandas as gpd\n",
    "from shapely.validation import make_valid\n",
    "\n",
    "# Combine A and B Block CGSAs into a single GeoDataFrame\n",
    "all_cgsas = gpd.GeoDataFrame(pd.concat([a_block, b_block], ignore_index=True))\n",
    "\n",
    "# Load your cellular data\n",
    "cellular_data = gpd.read_file(\"cellular_data_with_population.geojson\")\n",
    "\n",
    "# Ensure all data is in EPSG:4326\n",
    "cellular_data = cellular_data.to_crs(\"EPSG:4326\")\n",
    "all_cgsas = all_cgsas.to_crs(\"EPSG:4326\")\n",
    "\n",
    "# Check for multiple geometry columns and drop extras\n",
    "geometry_columns = [col for col in cellular_data.columns if isinstance(cellular_data[col], gpd.GeoSeries)]\n",
    "if len(geometry_columns) > 1:\n",
    "    # Drop all geometry columns except the primary 'geometry' column\n",
    "    columns_to_drop = [col for col in geometry_columns if col != 'geometry']\n",
    "    cellular_data = cellular_data.drop(columns=columns_to_drop)\n",
    "\n",
    "# Temporarily reproject to a projected CRS (e.g., EPSG:3857) for distance calculations\n",
    "projected_crs = \"EPSG:3857\"  # Web Mercator (units in meters)\n",
    "cellular_data_projected = cellular_data.to_crs(projected_crs)\n",
    "all_cgsas_projected = all_cgsas.to_crs(projected_crs)\n",
    "\n",
    "# Verify reprojection\n",
    "print(\"Cellular Data CRS:\", cellular_data_projected.crs)\n",
    "print(\"All CGSAs CRS:\", all_cgsas_projected.crs)\n",
    "\n",
    "# Check for invalid geometries in all_cgsas_projected\n",
    "invalid_geometries = all_cgsas_projected[~all_cgsas_projected.geometry.is_valid]\n",
    "print(\"Invalid geometries found:\", len(invalid_geometries))\n",
    "\n",
    "# Fix invalid geometries using buffer(0)\n",
    "all_cgsas_projected.geometry = all_cgsas_projected.geometry.buffer(0)\n",
    "\n",
    "# Re-check for invalid geometries\n",
    "invalid_geometries = all_cgsas_projected[~all_cgsas_projected.geometry.is_valid]\n",
    "print(\"Invalid geometries after buffer(0):\", len(invalid_geometries))\n",
    "\n",
    "# If there are still invalid geometries, use make_valid\n",
    "if len(invalid_geometries) > 0:\n",
    "    all_cgsas_projected.geometry = all_cgsas_projected.geometry.apply(\n",
    "        lambda geom: make_valid(geom) if not geom.is_valid else geom\n",
    "    )\n",
    "\n",
    "# Re-check for invalid geometries\n",
    "invalid_geometries = all_cgsas_projected[~all_cgsas_projected.geometry.is_valid]\n",
    "print(\"Invalid geometries after make_valid:\", len(invalid_geometries))\n",
    "\n",
    "# If there are still invalid geometries, drop them\n",
    "if len(invalid_geometries) > 0:\n",
    "    print(\"Dropping remaining invalid geometries.\")\n",
    "    all_cgsas_projected = all_cgsas_projected[all_cgsas_projected.geometry.is_valid]\n",
    "\n",
    "# Check if any points fall within the CGSAs\n",
    "points_within_cgsas = cellular_data_projected.geometry.within(all_cgsas_projected.unary_union)\n",
    "print(\"Points within CGSAs:\", points_within_cgsas.sum())\n",
    "\n",
    "# Calculate centroids of CGSAs (approximate cell tower locations)\n",
    "all_cgsas_projected['centroid'] = all_cgsas_projected.geometry.centroid\n",
    "\n",
    "# Function to calculate distance to nearest cell tower (CGSA centroid)\n",
    "def distance_to_nearest_tower(point, towers):\n",
    "    return towers.distance(point).min()\n",
    "\n",
    "# Add distance to nearest cell tower as a feature (in meters)\n",
    "cellular_data['distance_to_nearest_tower_meters'] = cellular_data_projected.geometry.apply(\n",
    "    lambda point: distance_to_nearest_tower(point, all_cgsas_projected['centroid']))\n",
    "\n",
    "# Convert distances to kilometers\n",
    "cellular_data['distance_to_nearest_tower_km'] = cellular_data['distance_to_nearest_tower_meters'] / 1000\n",
    "\n",
    "# Check the updated cellular_data\n",
    "print(cellular_data[['geometry', 'distance_to_nearest_tower_meters', 'distance_to_nearest_tower_km']].head())\n",
    "\n",
    "# Save the updated data\n",
    "cellular_data.to_file(\"cellular_data_with_cgsa_distance.geojson\", driver=\"GeoJSON\")"
   ]
  },
  {
   "cell_type": "code",
   "execution_count": null,
   "id": "57035486-3b3e-4d96-b006-0a2b9d1e88e3",
   "metadata": {},
   "outputs": [],
   "source": []
  }
 ],
 "metadata": {
  "kernelspec": {
   "display_name": "Python 3 (ipykernel)",
   "language": "python",
   "name": "python3"
  },
  "language_info": {
   "codemirror_mode": {
    "name": "ipython",
    "version": 3
   },
   "file_extension": ".py",
   "mimetype": "text/x-python",
   "name": "python",
   "nbconvert_exporter": "python",
   "pygments_lexer": "ipython3",
   "version": "3.11.6"
  }
 },
 "nbformat": 4,
 "nbformat_minor": 5
}
