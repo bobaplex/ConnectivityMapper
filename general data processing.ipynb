{
 "cells": [
  {
   "cell_type": "code",
   "execution_count": 1,
   "id": "d6055bfc-133f-4524-9fbe-3969afc572c4",
   "metadata": {},
   "outputs": [],
   "source": [
    "import rasterio\n",
    "\n",
    "# Open the DEM file\n",
    "with rasterio.open(\"US_merged.tif\") as src:\n",
    "    dem = src.read(1)  # Read the first band (elevation)\n",
    "    transform = src.transform  # Geospatial transform\n",
    "    crs = src.crs  # Coordinate reference system"
   ]
  },
  {
   "cell_type": "code",
   "execution_count": 2,
   "id": "689c69e4-2160-4379-af89-7c7178f2a4c4",
   "metadata": {},
   "outputs": [],
   "source": [
    "import geopandas as gpd\n",
    "\n",
    "# Open the GeoJSON file\n",
    "cellular_data = gpd.read_file(\"cellular_data.geojson\")"
   ]
  },
  {
   "cell_type": "code",
   "execution_count": 3,
   "id": "2943f60b-fa5b-4cca-9447-57f8c4557a76",
   "metadata": {},
   "outputs": [
    {
     "name": "stdout",
     "output_type": "stream",
     "text": [
      "EPSG:4326\n"
     ]
    }
   ],
   "source": [
    "# Check CRS of cellular data\n",
    "print(cellular_data.crs)\n",
    "\n",
    "# Reproject cellular data to match DEM CRS (if necessary)\n",
    "if cellular_data.crs != crs:\n",
    "    cellular_data = cellular_data.to_crs(crs)"
   ]
  },
  {
   "cell_type": "code",
   "execution_count": 4,
   "id": "6f72d78c-cba3-43e9-bb16-0b130413c307",
   "metadata": {},
   "outputs": [
    {
     "name": "stdout",
     "output_type": "stream",
     "text": [
      "DEM bounds: BoundingBox(left=-125.00041666667917, bottom=24.500416666674738, right=-66.50041666669244, top=49.500416666669054)\n",
      "DEM shape: (29999, 70200)\n"
     ]
    }
   ],
   "source": [
    "with rasterio.open(\"US_merged.tif\") as src:\n",
    "    print(\"DEM bounds:\", src.bounds)\n",
    "    print(\"DEM shape:\", src.shape)  # (height, width)"
   ]
  },
  {
   "cell_type": "code",
   "execution_count": 5,
   "id": "34efb1c6-18ee-45ef-8c51-885538030cc2",
   "metadata": {},
   "outputs": [
    {
     "name": "stdout",
     "output_type": "stream",
     "text": [
      "Cellular data bounds:\n",
      "Min longitude: -176.705472221965\n",
      "Max longitude: 145.79602777736\n",
      "Min latitude: -14.3222222217781\n",
      "Max latitude: 71.3179166667209\n"
     ]
    }
   ],
   "source": [
    "# Check min/max coordinates of cellular data\n",
    "print(\"Cellular data bounds:\")\n",
    "print(\"Min longitude:\", cellular_data.geometry.x.min())\n",
    "print(\"Max longitude:\", cellular_data.geometry.x.max())\n",
    "print(\"Min latitude:\", cellular_data.geometry.y.min())\n",
    "print(\"Max latitude:\", cellular_data.geometry.y.max())"
   ]
  },
  {
   "cell_type": "code",
   "execution_count": 6,
   "id": "47ac4fe3-933f-46c3-8a84-75e9fc31d838",
   "metadata": {},
   "outputs": [],
   "source": [
    "from shapely.geometry import box\n",
    "\n",
    "# Get DEM bounds\n",
    "with rasterio.open(\"US_merged.tif\") as src:\n",
    "    dem_bounds = box(*src.bounds)\n",
    "\n",
    "# Filter cellular data to only include points within DEM bounds\n",
    "cellular_data = cellular_data[cellular_data.geometry.within(dem_bounds)]"
   ]
  },
  {
   "cell_type": "code",
   "execution_count": 7,
   "id": "3574b72b-5186-425d-9a46-80e47c40f667",
   "metadata": {},
   "outputs": [
    {
     "name": "stdout",
     "output_type": "stream",
     "text": [
      "Row: 3201, Col: 2272\n"
     ]
    }
   ],
   "source": [
    "with rasterio.open(\"US_merged.tif\") as src:\n",
    "    transform = src.transform\n",
    "\n",
    "# Test the transform with a known point\n",
    "lon, lat = -122.3321, 47.6062  # Example: Seattle coordinates\n",
    "row, col = ~transform * (lon, lat)\n",
    "row, col = int(row), int(col)\n",
    "print(f\"Row: {row}, Col: {col}\")"
   ]
  },
  {
   "cell_type": "code",
   "execution_count": 8,
   "id": "734b2ba7-b412-4f24-8199-e0988859892a",
   "metadata": {},
   "outputs": [],
   "source": [
    "def get_elevation(lat, lon, dem, transform):\n",
    "    # Convert lat/long to row/col in the DEM\n",
    "    row, col = ~transform * (lon, lat)\n",
    "    row, col = int(row), int(col)\n",
    "    \n",
    "    # Check if row/col is within DEM bounds\n",
    "    if 0 <= row < dem.shape[0] and 0 <= col < dem.shape[1]:\n",
    "        return dem[row, col]\n",
    "    else:\n",
    "        return None  # Return None for out-of-bounds coordinates\n",
    "\n",
    "# Add elevation to cellular data\n",
    "cellular_data['elevation'] = cellular_data.apply(\n",
    "    lambda row: get_elevation(row.geometry.y, row.geometry.x, dem, transform), axis=1\n",
    ")"
   ]
  },
  {
   "cell_type": "code",
   "execution_count": 9,
   "id": "97175eca-ed2f-402b-bcb1-b2efef9d61c7",
   "metadata": {},
   "outputs": [],
   "source": [
    "cellular_data = cellular_data.dropna(subset=['elevation'])"
   ]
  },
  {
   "cell_type": "code",
   "execution_count": 10,
   "id": "ada07cf1-40da-4bd7-981c-adad89646a7a",
   "metadata": {},
   "outputs": [],
   "source": [
    "mean_elevation = cellular_data['elevation'].mean()\n",
    "cellular_data['elevation'] = cellular_data['elevation'].fillna(mean_elevation)"
   ]
  },
  {
   "cell_type": "code",
   "execution_count": null,
   "id": "205734f4-0def-42d1-8a4f-604937502ea5",
   "metadata": {},
   "outputs": [],
   "source": [
    "# import numpy as np\n",
    "# from scipy.ndimage import sobel\n",
    "\n",
    "# # Calculate slope from DEM\n",
    "# def calculate_slope(dem, transform):\n",
    "#     x, y = np.gradient(dem)\n",
    "#     slope = np.arctan(np.sqrt(x**2 + y**2)) * 180 / np.pi\n",
    "#     return slope\n",
    "\n",
    "# # Compute slope\n",
    "# slope = calculate_slope(dem, transform)\n",
    "\n",
    "# # Add slope to cellular data\n",
    "# cellular_data['slope'] = cellular_data.apply(\n",
    "#     lambda row: slope[int(~transform * (row.geometry.x, row.geometry.y)[0]), int(~transform * (row.geometry.x, row.geometry.y)[1])], axis=1\n",
    "# )"
   ]
  },
  {
   "cell_type": "code",
   "execution_count": 11,
   "id": "bef5c400-1f7e-4602-93b2-13f1049b51c7",
   "metadata": {},
   "outputs": [],
   "source": [
    "import numpy as np\n",
    "\n",
    "def calculate_slope(dem):\n",
    "    \"\"\"\n",
    "    Calculate slope from a DEM using numpy.gradient.\n",
    "    \"\"\"\n",
    "    x, y = np.gradient(dem)\n",
    "    slope = np.arctan(np.sqrt(x**2 + y**2)) * 180 / np.pi\n",
    "    return slope"
   ]
  },
  {
   "cell_type": "code",
   "execution_count": 12,
   "id": "652157db-f5a9-4f01-a019-dcde62919a3b",
   "metadata": {},
   "outputs": [],
   "source": [
    "from affine import Affine  # Ensure you have the `affine` library installed\n",
    "\n",
    "def transform_coordinates(coords, transform):\n",
    "    \"\"\"\n",
    "    Transform coordinates using an affine transformation.\n",
    "    \"\"\"\n",
    "    # Apply the inverse of the transform to get row/col indices\n",
    "    transformed_coords = ~transform * coords.T\n",
    "    return transformed_coords[1].astype(int), transformed_coords[0].astype(int)  # rows, cols"
   ]
  },
  {
   "cell_type": "code",
   "execution_count": 13,
   "id": "2a2a485f-0ca8-412f-a8af-ad68e9cef61c",
   "metadata": {},
   "outputs": [],
   "source": [
    "# def add_slope_to_cellular_data(cellular_data, dem, transform):\n",
    "#     \"\"\"\n",
    "#     Add slope values to cellular_data using vectorized operations.\n",
    "#     \"\"\"\n",
    "#     # Extract coordinates from cellular_data\n",
    "#     coords = np.array([(row.geometry.x, row.geometry.y) for row in cellular_data.itertuples()])\n",
    "\n",
    "#     # Transform coordinates to DEM indices\n",
    "#     rows, cols = transform_coordinates(coords, transform)\n",
    "\n",
    "#     # Calculate slope from DEM\n",
    "#     slope = calculate_slope(dem)\n",
    "\n",
    "#     # Assign slope values to cellular_data\n",
    "#     cellular_data['slope'] = slope[rows, cols]\n",
    "\n",
    "#     return cellular_data"
   ]
  },
  {
   "cell_type": "code",
   "execution_count": null,
   "id": "de4d7d6b-e74d-41b8-b982-14c2bbba999b",
   "metadata": {},
   "outputs": [],
   "source": [
    "# # Assuming dem and transform are already defined\n",
    "# # dem: Your Digital Elevation Model (2D numpy array)\n",
    "# # transform: Affine transformation for the DEM\n",
    "\n",
    "# # Add slope to cellular_data\n",
    "# cellular_data = add_slope_to_cellular_data(cellular_data, dem, transform)\n",
    "\n",
    "# # Check the result\n",
    "# print(cellular_data.head())"
   ]
  },
  {
   "cell_type": "markdown",
   "id": "742e25b4-bf57-406e-9190-df0a7ed7b5b9",
   "metadata": {},
   "source": [
    "my kernel keeps dying because of the large dem size, so I'm trying to use chunks."
   ]
  },
  {
   "cell_type": "code",
   "execution_count": 2,
   "id": "9ee3d516-1e97-44cf-96ad-f584ba6a9073",
   "metadata": {},
   "outputs": [],
   "source": [
    "import geopandas as gpd"
   ]
  },
  {
   "cell_type": "code",
   "execution_count": 13,
   "id": "7c5378f7-2a63-4319-b683-fbe92bb2a063",
   "metadata": {},
   "outputs": [],
   "source": [
    "import numpy as np\n",
    "import rasterio\n",
    "from rasterio.windows import Window\n",
    "from affine import Affine\n",
    "import geopandas as gpd\n",
    "\n",
    "# Open the DEM file\n",
    "with rasterio.open(\"US_merged.tif\") as src:\n",
    "    transform = src.transform\n",
    "    height, width = src.shape\n",
    "\n",
    "    # Define chunk size\n",
    "    chunk_size = 5000\n",
    "\n",
    "    # Extract coordinates from cellular_data\n",
    "    coords = np.array([(row.geometry.x, row.geometry.y) for row in cellular_data.itertuples()])\n",
    "    rows, cols = transform_coordinates(coords, transform)\n",
    "\n",
    "    # Initialize a column for slope values\n",
    "    cellular_data['slope'] = np.nan\n",
    "\n",
    "    # Loop through the DEM in chunks\n",
    "    for i in range(0, height, chunk_size):\n",
    "        for j in range(0, width, chunk_size):\n",
    "            window = Window(j, i, min(chunk_size, width - j), min(chunk_size, height - i))\n",
    "            dem_chunk = src.read(1, window=window)\n",
    "            slope_chunk = calculate_slope(dem_chunk)\n",
    "\n",
    "            in_chunk = (\n",
    "                (rows >= i) & (rows < i + chunk_size) &\n",
    "                (cols >= j) & (cols < j + chunk_size)\n",
    "            )\n",
    "            cellular_data.loc[in_chunk, 'slope'] = slope_chunk[\n",
    "                rows[in_chunk] - i, cols[in_chunk] - j\n",
    "            ]\n",
    "\n",
    "# Save the results\n",
    "cellular_data.to_file(\"cellular_data_with_slope.geojson\", driver=\"GeoJSON\")"
   ]
  },
  {
   "cell_type": "code",
   "execution_count": 14,
   "id": "b81e7f37-6a64-4d13-921a-81b3aa5a0d4b",
   "metadata": {},
   "outputs": [
    {
     "name": "stdout",
     "output_type": "stream",
     "text": [
      "Cellular Data with Slope:\n",
      "   FID  UniqSysID                     Licensee Callsign  LocNum  LatDeg  \\\n",
      "0   27      11510  AT&T Mobility Spectrum, LLC  KNKA679      12      47   \n",
      "1   28      11510  AT&T Mobility Spectrum, LLC  KNKA679       6      47   \n",
      "2   29      11510  AT&T Mobility Spectrum, LLC  KNKA679       7      47   \n",
      "3   30      11510  AT&T Mobility Spectrum, LLC  KNKA679       8      47   \n",
      "4   31      11510  AT&T Mobility Spectrum, LLC  KNKA679       9      47   \n",
      "\n",
      "   LatMin  LatSec LatDir  LonDeg  ...  SupStruc  AllStruc StrucType LicStatus  \\\n",
      "0      41     1.6      N     122  ...       9.8      12.8         B         A   \n",
      "1      41    28.0      N     122  ...      45.4      45.4    MTOWER         A   \n",
      "2      28    49.0      N     122  ...     128.9     128.9    GTOWER         A   \n",
      "3      41    31.2      N     122  ...      46.0      50.9    MTOWER         A   \n",
      "4      31     1.5      N     122  ...      46.0      47.8    MTOWER         A   \n",
      "\n",
      "      latdec      londec                                                url  \\\n",
      "0  47.683778 -122.363583  http://wireless2.fcc.gov/UlsApp/UlsSearch/lice...   \n",
      "1  47.691111 -122.715278  http://wireless2.fcc.gov/UlsApp/UlsSearch/lice...   \n",
      "2  47.480278 -122.533889  http://wireless2.fcc.gov/UlsApp/UlsSearch/lice...   \n",
      "3  47.692000 -122.821667  http://wireless2.fcc.gov/UlsApp/UlsSearch/lice...   \n",
      "4  47.517083 -122.572167  http://wireless2.fcc.gov/UlsApp/UlsSearch/lice...   \n",
      "\n",
      "  elevation      slope                     geometry  \n",
      "0     349.0  48.189685  POINT (-122.36358 47.68378)  \n",
      "1      76.0  85.642828  POINT (-122.71528 47.69111)  \n",
      "2      78.0  74.206831  POINT (-122.53389 47.48028)  \n",
      "3     155.0  85.568525    POINT (-122.82167 47.692)  \n",
      "4      23.0  78.690068  POINT (-122.57217 47.51708)  \n",
      "\n",
      "[5 rows x 30 columns]\n",
      "Number of rows: 5770\n"
     ]
    }
   ],
   "source": [
    "import geopandas as gpd\n",
    "\n",
    "# Load the cellular data with slope\n",
    "cellular_data = gpd.read_file(\"cellular_data_with_slope.geojson\")\n",
    "\n",
    "# Check if the file is empty\n",
    "print(\"Cellular Data with Slope:\")\n",
    "print(cellular_data.head())\n",
    "print(\"Number of rows:\", len(cellular_data))"
   ]
  },
  {
   "cell_type": "markdown",
   "id": "0842de4f-3ff8-4a4e-b609-7bff472bf792",
   "metadata": {},
   "source": [
    "# Now I will start  processing population density data\n"
   ]
  },
  {
   "cell_type": "code",
   "execution_count": 15,
   "id": "1edb2fdd-8fe4-4c0d-9821-e2c1d545b0d2",
   "metadata": {},
   "outputs": [],
   "source": [
    "# Load the population density GeoTIFF \n",
    "with rasterio.open(\"usa_pd_2020_1km_UNadj.tif\") as src:\n",
    "    pop_density = src.read(1)  # Read the first band\n",
    "    transform = src.transform  # Geospatial transform\n",
    "    crs = src.crs  # Coordinate reference system"
   ]
  },
  {
   "cell_type": "code",
   "execution_count": 16,
   "id": "e8418491-36b5-4b81-8902-c667a39c1b42",
   "metadata": {},
   "outputs": [
    {
     "data": {
      "text/plain": [
       "Index(['lon', 'lat', 'year', 'ISO', 'ISO_No', 'Name', 'PWC_Lat', 'PWC_Lon',\n",
       "       'Pop', 'Density',\n",
       "       ...\n",
       "       'PWD_P92', 'PWD_P93', 'PWD_P94', 'PWD_P95', 'PWD_P96', 'PWD_P97',\n",
       "       'PWD_P98', 'PWD_P99', 'PWD_P100', 'geometry'],\n",
       "      dtype='object', length=115)"
      ]
     },
     "execution_count": 16,
     "metadata": {},
     "output_type": "execute_result"
    }
   ],
   "source": [
    "# Load the world GeoJSON file (pop weighted density)\n",
    "world = gpd.read_file(\"PWD_2020_national_100m.geojson\")\n",
    "\n",
    "# Check the column names to identify the country attribute\n",
    "world.columns"
   ]
  },
  {
   "cell_type": "code",
   "execution_count": 17,
   "id": "f06d2feb-5ac3-4fe1-ae87-c968ea624516",
   "metadata": {},
   "outputs": [
    {
     "name": "stdout",
     "output_type": "stream",
     "text": [
      "       lon      lat  year  ISO ISO_No           Name  PWC_Lat   PWC_Lon  \\\n",
      "2 -92.4788  37.3172  2020  USA    840  United States  37.3172  -92.4788   \n",
      "\n",
      "         Pop Density  ...  PWD_P92  PWD_P93  PWD_P94  PWD_P95  PWD_P96  \\\n",
      "2  331002647    36.1  ...  11054.1  12283.2  13841.5  15874.6  18744.1   \n",
      "\n",
      "   PWD_P97  PWD_P98  PWD_P99  PWD_P100                  geometry  \n",
      "2  23143.1  30722.0  47778.3  485077.8  POINT (-92.4788 37.3172)  \n",
      "\n",
      "[1 rows x 115 columns]\n"
     ]
    }
   ],
   "source": [
    "# Filter for the United States using the ISO code\n",
    "us_data = world[world['ISO'] == 'USA']\n",
    "\n",
    "# Check the result\n",
    "print(us_data.head())\n",
    "\n",
    "# Save the filtered data to a new GeoJSON file\n",
    "us_data.to_file(\"us_population.geojson\", driver=\"GeoJSON\")"
   ]
  },
  {
   "cell_type": "code",
   "execution_count": 3,
   "id": "9875ea91-4853-4eca-9394-67832975980b",
   "metadata": {},
   "outputs": [
    {
     "data": {
      "text/plain": [
       "Index(['lon', 'lat', 'year', 'ISO', 'ISO_No', 'Country_N', 'Adm_N', 'GID_1',\n",
       "       'HASC', 'PWC_Lat', 'PWC_Lon', 'Pop', 'Density', 'Area', 'PWD_A',\n",
       "       'PWD_G', 'PWD_M', 'PWD_D1', 'PWD_D2', 'PWD_D3', 'PWD_D4', 'PWD_D5',\n",
       "       'PWD_D6', 'PWD_D7', 'PWD_D8', 'PWD_D9', 'PWD_D10', 'geometry'],\n",
       "      dtype='object')"
      ]
     },
     "execution_count": 3,
     "metadata": {},
     "output_type": "execute_result"
    }
   ],
   "source": [
    "# Load the world GeoJSON file (pop weighted density)\n",
    "world_sub = gpd.read_file(\"PWD_2020_sub_national_100m.geojson\")\n",
    "\n",
    "# Check the column names to identify the country attribute\n",
    "world_sub.columns"
   ]
  },
  {
   "cell_type": "code",
   "execution_count": 6,
   "id": "fc6130c4-d80f-4758-a555-c91741c0672c",
   "metadata": {},
   "outputs": [
    {
     "name": "stdout",
     "output_type": "stream",
     "text": [
      "             lon        lat  year  ISO ISO_No      Country_N       Adm_N  \\\n",
      "3471  -86.745407  33.015068  2020  USA    840  United States     Alabama   \n",
      "3472 -149.075200  61.505200  2020  USA    840  United States      Alaska   \n",
      "3473 -111.880226  33.363468  2020  USA    840  United States     Arizona   \n",
      "3474  -92.735825  35.205795  2020  USA    840  United States    Arkansas   \n",
      "3475 -119.334503  35.463676  2020  USA    840  United States  California   \n",
      "\n",
      "        GID_1   HASC           PWC_Lat  ...  PWD_D2  PWD_D3  PWD_D4  PWD_D5  \\\n",
      "3471  USA.1_1  US.AL  33.0150680541992  ...    84.6   179.5   341.5   582.0   \n",
      "3472  USA.2_1  US.AK           61.5052  ...   156.5   340.6   652.2  1214.0   \n",
      "3473  USA.3_1  US.AZ   33.363468170166  ...  1009.2  1602.5  2175.9  2769.1   \n",
      "3474  USA.4_1  US.AR  35.2057952880859  ...    66.5   152.6   337.9   639.9   \n",
      "3475  USA.5_1  US.CA  35.4636764526367  ...  1800.7  2561.5  3287.9  4072.8   \n",
      "\n",
      "      PWD_D6  PWD_D7  PWD_D8   PWD_D9   PWD_D10                     geometry  \n",
      "3471   883.6  1259.8  1783.9   2847.1   87827.4   POINT (-86.74541 33.01507)  \n",
      "3472  2020.2  2891.0  3936.8   5962.5   87939.8    POINT (-149.0752 61.5052)  \n",
      "3473  3429.0  4246.2  5517.5   8322.4  290712.3  POINT (-111.88023 33.36347)  \n",
      "3474  1051.5  1554.5  2188.2   3366.3  106071.6    POINT (-92.73582 35.2058)  \n",
      "3475  5031.6  6368.5  8559.6  12963.0  255715.7   POINT (-119.3345 35.46368)  \n",
      "\n",
      "[5 rows x 28 columns]\n"
     ]
    }
   ],
   "source": [
    "# Filter for the United States using the ISO code\n",
    "us_sub_data = world_sub[world_sub['ISO'] == 'USA']\n",
    "\n",
    "# Check the result\n",
    "print(us_sub_data.head())\n",
    "\n",
    "# Save the filtered data to a new GeoJSON file\n",
    "us_sub_data.to_file(\"us_sub_population.geojson\", driver=\"GeoJSON\")"
   ]
  },
  {
   "cell_type": "code",
   "execution_count": null,
   "id": "ee0e4d47-0d4b-4526-987d-96454dfd75fb",
   "metadata": {},
   "outputs": [],
   "source": []
  }
 ],
 "metadata": {
  "kernelspec": {
   "display_name": "Python 3 (ipykernel)",
   "language": "python",
   "name": "python3"
  },
  "language_info": {
   "codemirror_mode": {
    "name": "ipython",
    "version": 3
   },
   "file_extension": ".py",
   "mimetype": "text/x-python",
   "name": "python",
   "nbconvert_exporter": "python",
   "pygments_lexer": "ipython3",
   "version": "3.11.6"
  }
 },
 "nbformat": 4,
 "nbformat_minor": 5
}
