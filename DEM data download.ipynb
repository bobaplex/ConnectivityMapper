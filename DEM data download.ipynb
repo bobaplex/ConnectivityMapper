{
 "cells": [
  {
   "cell_type": "code",
   "execution_count": 9,
   "id": "c80a1b26-b4a8-4363-a8cb-e8fe62d0f268",
   "metadata": {},
   "outputs": [
    {
     "name": "stdout",
     "output_type": "stream",
     "text": [
      "Fetching data from: https://portal.opentopography.org/API/globaldem?demtype=SRTMGL3&south=24.5&north=37.0&west=-125.0&east=-100.0&outputFormat=GTiff&API_Key=0fdd6a4534f8cdfdddf2f72d10a4e2d8\n",
      "Data saved to US_SRTMGL3_region_1.tif\n",
      "Fetching data from: https://portal.opentopography.org/API/globaldem?demtype=SRTMGL3&south=24.5&north=37.0&west=-100.0&east=-83.25&outputFormat=GTiff&API_Key=0fdd6a4534f8cdfdddf2f72d10a4e2d8\n",
      "Data saved to US_SRTMGL3_region_2.tif\n",
      "Fetching data from: https://portal.opentopography.org/API/globaldem?demtype=SRTMGL3&south=24.5&north=37.0&west=-83.25&east=-66.5&outputFormat=GTiff&API_Key=0fdd6a4534f8cdfdddf2f72d10a4e2d8\n",
      "Data saved to US_SRTMGL3_region_3.tif\n",
      "Fetching data from: https://portal.opentopography.org/API/globaldem?demtype=SRTMGL3&south=37.0&north=49.5&west=-125.0&east=-100.0&outputFormat=GTiff&API_Key=0fdd6a4534f8cdfdddf2f72d10a4e2d8\n",
      "Data saved to US_SRTMGL3_region_4.tif\n",
      "Fetching data from: https://portal.opentopography.org/API/globaldem?demtype=SRTMGL3&south=37.0&north=49.5&west=-100.0&east=-66.5&outputFormat=GTiff&API_Key=0fdd6a4534f8cdfdddf2f72d10a4e2d8\n",
      "Data saved to US_SRTMGL3_region_5.tif\n"
     ]
    }
   ],
   "source": [
    "import os\n",
    "import requests\n",
    "\n",
    "# Define all regions (including split Region 2)\n",
    "regions = [\n",
    "    {\"south\": 24.5, \"north\": 37.0, \"west\": -125.0, \"east\": -100.0},  # Southwest\n",
    "    {\"south\": 24.5, \"north\": 37.0, \"west\": -100.0, \"east\": -83.25},   # Southeast 1\n",
    "    {\"south\": 24.5, \"north\": 37.0, \"west\": -83.25, \"east\": -66.5},    # Southeast 2\n",
    "    {\"south\": 37.0, \"north\": 49.5, \"west\": -125.0, \"east\": -100.0},  # Northwest\n",
    "    {\"south\": 37.0, \"north\": 49.5, \"west\": -100.0, \"east\": -66.5},   # Northeast\n",
    "]\n",
    "\n",
    "# DEM type (e.g., SRTMGL3)\n",
    "demtype = \"SRTMGL3\"\n",
    "\n",
    "# Base URL for OpenTopography API\n",
    "base_url = \"https://portal.opentopography.org/API/globaldem\"\n",
    "\n",
    "# Function to fetch and save DEM data\n",
    "def get_OT_GlobalDEM(api_url, out_fn):\n",
    "    if not os.path.exists(out_fn):\n",
    "        print(\"Fetching data from:\", api_url)\n",
    "        \n",
    "        # Send GET request\n",
    "        response = requests.get(api_url)\n",
    "        \n",
    "        # Check for successful response\n",
    "        if response.status_code == 200:\n",
    "            # Write to disk\n",
    "            with open(out_fn, 'wb') as f:\n",
    "                f.write(response.content)\n",
    "            print(f\"Data saved to {out_fn}\")\n",
    "        else:\n",
    "            print(f\"Failed to fetch data. Status code: {response.status_code}\")\n",
    "\n",
    "# Fetch data for each region\n",
    "for i, bounds in enumerate(regions):\n",
    "    api_url = (\n",
    "        f\"{base_url}?demtype={demtype}&\"\n",
    "        f\"south={bounds['south']}&north={bounds['north']}&\"\n",
    "        f\"west={bounds['west']}&east={bounds['east']}&\"\n",
    "        \"outputFormat=GTiff&API_Key=0fdd6a4534f8cdfdddf2f72d10a4e2d8\"  # Add your API key here\n",
    "    )\n",
    "    out_fn = f\"US_{demtype}_region_{i+1}.tif\"\n",
    "    get_OT_GlobalDEM(api_url, out_fn)"
   ]
  },
  {
   "cell_type": "code",
   "execution_count": 1,
   "id": "d394e463-67e6-450e-b0ce-27c7889ef721",
   "metadata": {},
   "outputs": [],
   "source": [
    "regions = [\n",
    "    {\"south\": 24.5, \"north\": 37.0, \"west\": -125.0, \"east\": -100.0},  # Southwest\n",
    "    {\"south\": 24.5, \"north\": 37.0, \"west\": -100.0, \"east\": -83.25},   # Southeast 1\n",
    "    {\"south\": 24.5, \"north\": 37.0, \"west\": -83.25, \"east\": -66.5},    # Southeast 2\n",
    "    {\"south\": 37.0, \"north\": 49.5, \"west\": -125.0, \"east\": -100.0},  # Northwest\n",
    "    {\"south\": 37.0, \"north\": 49.5, \"west\": -100.0, \"east\": -66.5},   # Northeast\n",
    "]\n",
    "# DEM type (e.g., SRTMGL3)\n",
    "demtype = \"SRTMGL3\""
   ]
  },
  {
   "cell_type": "code",
   "execution_count": null,
   "id": "c60b2205-d2f2-4003-a646-83e8abcc7d90",
   "metadata": {},
   "outputs": [],
   "source": []
  }
 ],
 "metadata": {
  "kernelspec": {
   "display_name": "Python 3 (ipykernel)",
   "language": "python",
   "name": "python3"
  },
  "language_info": {
   "codemirror_mode": {
    "name": "ipython",
    "version": 3
   },
   "file_extension": ".py",
   "mimetype": "text/x-python",
   "name": "python",
   "nbconvert_exporter": "python",
   "pygments_lexer": "ipython3",
   "version": "3.11.6"
  }
 },
 "nbformat": 4,
 "nbformat_minor": 5
}
